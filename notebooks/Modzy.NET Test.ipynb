{
 "cells": [
  {
   "cell_type": "code",
   "execution_count": 1,
   "id": "f3567911",
   "metadata": {},
   "outputs": [
    {
     "data": {
      "text/html": [
       "\r\n",
       "<div>\r\n",
       "    <div id='dotnet-interactive-this-cell-30320.Microsoft.DotNet.Interactive.Http.HttpPort' style='display: none'>\r\n",
       "        The below script needs to be able to find the current output cell; this is an easy method to get it.\r\n",
       "    </div>\r\n",
       "    <script type='text/javascript'>\r\n",
       "async function probeAddresses(probingAddresses) {\r\n",
       "    function timeout(ms, promise) {\r\n",
       "        return new Promise(function (resolve, reject) {\r\n",
       "            setTimeout(function () {\r\n",
       "                reject(new Error('timeout'))\r\n",
       "            }, ms)\r\n",
       "            promise.then(resolve, reject)\r\n",
       "        })\r\n",
       "    }\r\n",
       "\r\n",
       "    if (Array.isArray(probingAddresses)) {\r\n",
       "        for (let i = 0; i < probingAddresses.length; i++) {\r\n",
       "\r\n",
       "            let rootUrl = probingAddresses[i];\r\n",
       "\r\n",
       "            if (!rootUrl.endsWith('/')) {\r\n",
       "                rootUrl = `${rootUrl}/`;\r\n",
       "            }\r\n",
       "\r\n",
       "            try {\r\n",
       "                let response = await timeout(1000, fetch(`${rootUrl}discovery`, {\r\n",
       "                    method: 'POST',\r\n",
       "                    cache: 'no-cache',\r\n",
       "                    mode: 'cors',\r\n",
       "                    timeout: 1000,\r\n",
       "                    headers: {\r\n",
       "                        'Content-Type': 'text/plain'\r\n",
       "                    },\r\n",
       "                    body: probingAddresses[i]\r\n",
       "                }));\r\n",
       "\r\n",
       "                if (response.status == 200) {\r\n",
       "                    return rootUrl;\r\n",
       "                }\r\n",
       "            }\r\n",
       "            catch (e) { }\r\n",
       "        }\r\n",
       "    }\r\n",
       "}\r\n",
       "\r\n",
       "function loadDotnetInteractiveApi() {\r\n",
       "    probeAddresses([\"http://172.26.64.1:1000/\", \"http://192.168.1.189:1000/\", \"http://127.0.0.1:1000/\"])\r\n",
       "        .then((root) => {\r\n",
       "        // use probing to find host url and api resources\r\n",
       "        // load interactive helpers and language services\r\n",
       "        let dotnetInteractiveRequire = require.config({\r\n",
       "        context: '30320.Microsoft.DotNet.Interactive.Http.HttpPort',\r\n",
       "                paths:\r\n",
       "            {\r\n",
       "                'dotnet-interactive': `${root}resources`\r\n",
       "                }\r\n",
       "        }) || require;\r\n",
       "\r\n",
       "            window.dotnetInteractiveRequire = dotnetInteractiveRequire;\r\n",
       "\r\n",
       "            window.configureRequireFromExtension = function(extensionName, extensionCacheBuster) {\r\n",
       "                let paths = {};\r\n",
       "                paths[extensionName] = `${root}extensions/${extensionName}/resources/`;\r\n",
       "                \r\n",
       "                let internalRequire = require.config({\r\n",
       "                    context: extensionCacheBuster,\r\n",
       "                    paths: paths,\r\n",
       "                    urlArgs: `cacheBuster=${extensionCacheBuster}`\r\n",
       "                    }) || require;\r\n",
       "\r\n",
       "                return internalRequire\r\n",
       "            };\r\n",
       "        \r\n",
       "            dotnetInteractiveRequire([\r\n",
       "                    'dotnet-interactive/dotnet-interactive'\r\n",
       "                ],\r\n",
       "                function (dotnet) {\r\n",
       "                    dotnet.init(window);\r\n",
       "                },\r\n",
       "                function (error) {\r\n",
       "                    console.log(error);\r\n",
       "                }\r\n",
       "            );\r\n",
       "        })\r\n",
       "        .catch(error => {console.log(error);});\r\n",
       "    }\r\n",
       "\r\n",
       "// ensure `require` is available globally\r\n",
       "if ((typeof(require) !==  typeof(Function)) || (typeof(require.config) !== typeof(Function))) {\r\n",
       "    let require_script = document.createElement('script');\r\n",
       "    require_script.setAttribute('src', 'https://cdnjs.cloudflare.com/ajax/libs/require.js/2.3.6/require.min.js');\r\n",
       "    require_script.setAttribute('type', 'text/javascript');\r\n",
       "    \r\n",
       "    \r\n",
       "    require_script.onload = function() {\r\n",
       "        loadDotnetInteractiveApi();\r\n",
       "    };\r\n",
       "\r\n",
       "    document.getElementsByTagName('head')[0].appendChild(require_script);\r\n",
       "}\r\n",
       "else {\r\n",
       "    loadDotnetInteractiveApi();\r\n",
       "}\r\n",
       "\r\n",
       "    </script>\r\n",
       "</div>"
      ]
     },
     "metadata": {},
     "output_type": "display_data"
    },
    {
     "data": {
      "text/html": [
       "<div><div></div><div></div><div><strong>Installed Packages</strong><ul><li><span>Modzy.NET, 0.1.0-alpha</span></li></ul></div></div>"
      ]
     },
     "metadata": {},
     "output_type": "display_data"
    }
   ],
   "source": [
    "#r \"nuget: Modzy.NET, 0.1.0-alpha\""
   ]
  },
  {
   "cell_type": "code",
   "execution_count": 2,
   "id": "99b3b31e",
   "metadata": {},
   "outputs": [],
   "source": [
    "using Modzy;"
   ]
  },
  {
   "cell_type": "code",
   "execution_count": 8,
   "id": "340d31bd",
   "metadata": {},
   "outputs": [
    {
     "name": "stdout",
     "output_type": "stream",
     "text": [
      "Initialized HTTP client for Modzy API base url https://app.modzy.com/api/.\n",
      "HTTP GET: https://app.modzy.com/api/models?per-page=1000\n",
      "JSON response: [{\"modelId\":\"z8qms2pgvx\",\"latestVersion\":\"4.1.0\",\"versions\":[\"1.0.0\",\"4.1.0\"]},{\"modelId\":\"mcmedzgiu3\",\"latestVersion\":\"0.0.1\",\"versions\":[\"0.0.1\"]},{\"modelId\":\"f7e252e26a\",\"latestVersion\":\"0.0.1\",\"versions\":[\"0.0.1\"]},{\"modelId\":\"usl7zai4ve\",\"latestVersion\":\"0.0.1\",\"versions\":[\"0.0.1\"]},{\"modelId\":\"132fq7a6a9\",\"latestVersion\":\"1.0.2\",\"versions\":[\"1.0.2\",\"0.0.2\",\"0.0.1\"]},{\"modelId\":\"pn7pa4retx\",\"latestVersion\":\"0.0.1\",\"versions\":[\"0.0.1\"]},{\"modelId\":\"d264386947\",\"latestVersion\":\"0.0.1\",\"versions\":[\"0.0.1\"]},{\"modelId\":\"2a3d66c038\",\"latestVersion\":\"0.0.3\",\"versions\":[\"0.0.1\",\"0.0.2\",\"0.0.3\"]},{\"modelId\":\"cbf9e8d6da\",\"latestVersion\":\"0.0.1\",\"versions\":[\"0.0.1\"]},{\"modelId\":\"clqv1dz0cq\",\"latestVersion\":\"0.0.1\",\"versions\":[\"0.0.1\"]},{\"modelId\":\"cyoxn54q5g\",\"latestVersion\":\"0.0.2\",\"versions\":[\"0.0.1\",\"0.0.2\"]},{\"modelId\":\"gwfoviogcm\",\"latestVersion\":\"0.0.2\",\"versions\":[\"0.0.1\",\"0.0.2\"]},{\"modelId\":\"zi2wvziln1\",\"latestVersion\":\"0.0.2\",\"versions\":[\"0.0.1\",\"0.0.2\"]},{\"modelId\":\"e8cfeeecf1\",\"latestVersion\":\"0.0.1\",\"versions\":[\"0.0.1\"]},{\"modelId\":\"9n90r9b0dp\",\"latestVersion\":\"0.0.1\",\"versions\":[\"0.0.1\"]},{\"modelId\":\"nrudxuubt3\",\"latestVersion\":\"0.1.0\",\"versions\":[\"0.1.0\"]},{\"modelId\":\"0wiku2mtlf\",\"latestVersion\":\"0.0.1\",\"versions\":[\"0.0.1\"]},{\"modelId\":\"6d1c49595f\",\"latestVersion\":\"1.0.1\",\"versions\":[\"0.0.11\",\"1.0.1\",\"0.0.12\"]},{\"modelId\":\"c60c8dbd79\",\"latestVersion\":\"0.0.2\",\"versions\":[\"0.0.1\",\"0.0.2\"]},{\"modelId\":\"q8eys1i8ol\",\"latestVersion\":\"0.0.1\",\"versions\":[\"0.0.1\"]},{\"modelId\":\"a5dd4wqlri\",\"latestVersion\":\"\",\"versions\":[]},{\"modelId\":\"2c368011ef\",\"latestVersion\":\"0.0.1\",\"versions\":[\"0.0.1\"]},{\"modelId\":\"e3f73163d3\",\"latestVersion\":\"0.0.1\",\"versions\":[\"0.0.1\"]},{\"modelId\":\"sixvdaywy0\",\"latestVersion\":\"0.0.1\",\"versions\":[\"0.0.1\"]},{\"modelId\":\"e3t6xjabud\",\"latestVersion\":\"0.0.1\",\"versions\":[\"0.0.1\"]},{\"modelId\":\"5b98cvxsd2\",\"latestVersion\":\"0.0.1\",\"versions\":[\"0.0.1\"]},{\"modelId\":\"s25ge4ufw4\",\"latestVersion\":\"0.0.1\",\"versions\":[\"0.0.1\"]},{\"modelId\":\"8bjq6tqvqv\",\"latestVersion\":\"0.0.2\",\"versions\":[\"0.0.2\"]},{\"modelId\":\"q17fq1a01k\",\"latestVersion\":\"0.0.1\",\"versions\":[\"0.0.1\"]},{\"modelId\":\"vay0g6tavv\",\"latestVersion\":\"0.0.2\",\"versions\":[\"0.0.2\"]},{\"modelId\":\"ydai26qxaa\",\"latestVersion\":\"0.0.2\",\"versions\":[\"0.0.2\"]},{\"modelId\":\"o5ocxrjt9s\",\"latestVersion\":\"0.0.3\",\"versions\":[\"0.0.3\"]},{\"modelId\":\"899doc921x\",\"latestVersion\":\"0.0.1\",\"versions\":[\"0.0.1\"]},{\"modelId\":\"hprfkvdbgt\",\"latestVersion\":\"0.0.2\",\"versions\":[\"0.0.2\"]},{\"modelId\":\"8025b0db7b\",\"latestVersion\":\"0.0.1\",\"versions\":[\"0.0.1\"]},{\"modelId\":\"aevbu1h3yw\",\"latestVersion\":\"1.0.1\",\"versions\":[\"0.0.1\",\"1.0.1\"]},{\"modelId\":\"uvdncymn6q\",\"latestVersion\":\"0.0.3\",\"versions\":[\"0.0.3\",\"0.0.2\"]},{\"modelId\":\"93ltr2oepu\",\"latestVersion\":\"0.0.6\",\"versions\":[\"0.0.4\",\"0.0.3\",\"0.0.6\",\"0.0.5\"]},{\"modelId\":\"u54lgh7rag\",\"latestVersion\":\"0.0.2\",\"versions\":[\"0.0.2\"]},{\"modelId\":\"i2gapn1wh7\",\"latestVersion\":\"0.0.2\",\"versions\":[\"0.0.2\"]},{\"modelId\":\"wn6xe6bizs\",\"latestVersion\":\"0.0.2\",\"versions\":[\"0.0.2\"]},{\"modelId\":\"7lbhy1vclk\",\"latestVersion\":\"0.0.2\",\"versions\":[\"0.0.2\"]},{\"modelId\":\"0ae5bb52ec\",\"latestVersion\":\"0.0.1\",\"versions\":[\"0.0.1\"]},{\"modelId\":\"24ntd2cn93\",\"latestVersion\":\"0.0.2\",\"versions\":[\"0.0.2\"]},{\"modelId\":\"m8z2mwe3pt\",\"latestVersion\":\"0.0.1\",\"versions\":[\"0.0.1\"]},{\"modelId\":\"a92fc413b5\",\"latestVersion\":\"0.0.12\",\"versions\":[\"0.0.12\",\"0.0.11\"]},{\"modelId\":\"ed542963de\",\"latestVersion\":\"1.0.27\",\"versions\":[\"1.0.1\",\"0.0.28\",\"1.0.27\",\"0.0.27\"]},{\"modelId\":\"rs2qqwbjwb\",\"latestVersion\":\"0.0.2\",\"versions\":[\"0.0.2\"]}]\n"
     ]
    }
   ],
   "source": [
    "var client = new ApiClient(\"qBL0HO1JmSXy43E3Hso6.GoXIos62w9ld2Ir8YMrn\", new Uri(\"https://app.modzy.com/api/\"));\n",
    "var gg = await client.GetModelsListing();"
   ]
  },
  {
   "cell_type": "code",
   "execution_count": null,
   "id": "a8166b51",
   "metadata": {},
   "outputs": [],
   "source": []
  }
 ],
 "metadata": {
  "kernelspec": {
   "display_name": ".NET (C#)",
   "language": "C#",
   "name": ".net-csharp"
  },
  "language_info": {
   "file_extension": ".cs",
   "mimetype": "text/x-csharp",
   "name": "C#",
   "pygments_lexer": "csharp",
   "version": "9.0"
  }
 },
 "nbformat": 4,
 "nbformat_minor": 5
}
