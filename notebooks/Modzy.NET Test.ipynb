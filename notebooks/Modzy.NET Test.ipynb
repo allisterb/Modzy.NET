{
 "cells": [
  {
   "cell_type": "code",
   "execution_count": 1,
   "id": "6ab7c4f0",
   "metadata": {},
   "outputs": [
    {
     "data": {
      "text/html": [
       "\r\n",
       "<div>\r\n",
       "    <div id='dotnet-interactive-this-cell-25896.Microsoft.DotNet.Interactive.Http.HttpPort' style='display: none'>\r\n",
       "        The below script needs to be able to find the current output cell; this is an easy method to get it.\r\n",
       "    </div>\r\n",
       "    <script type='text/javascript'>\r\n",
       "async function probeAddresses(probingAddresses) {\r\n",
       "    function timeout(ms, promise) {\r\n",
       "        return new Promise(function (resolve, reject) {\r\n",
       "            setTimeout(function () {\r\n",
       "                reject(new Error('timeout'))\r\n",
       "            }, ms)\r\n",
       "            promise.then(resolve, reject)\r\n",
       "        })\r\n",
       "    }\r\n",
       "\r\n",
       "    if (Array.isArray(probingAddresses)) {\r\n",
       "        for (let i = 0; i < probingAddresses.length; i++) {\r\n",
       "\r\n",
       "            let rootUrl = probingAddresses[i];\r\n",
       "\r\n",
       "            if (!rootUrl.endsWith('/')) {\r\n",
       "                rootUrl = `${rootUrl}/`;\r\n",
       "            }\r\n",
       "\r\n",
       "            try {\r\n",
       "                let response = await timeout(1000, fetch(`${rootUrl}discovery`, {\r\n",
       "                    method: 'POST',\r\n",
       "                    cache: 'no-cache',\r\n",
       "                    mode: 'cors',\r\n",
       "                    timeout: 1000,\r\n",
       "                    headers: {\r\n",
       "                        'Content-Type': 'text/plain'\r\n",
       "                    },\r\n",
       "                    body: probingAddresses[i]\r\n",
       "                }));\r\n",
       "\r\n",
       "                if (response.status == 200) {\r\n",
       "                    return rootUrl;\r\n",
       "                }\r\n",
       "            }\r\n",
       "            catch (e) { }\r\n",
       "        }\r\n",
       "    }\r\n",
       "}\r\n",
       "\r\n",
       "function loadDotnetInteractiveApi() {\r\n",
       "    probeAddresses([\"http://172.26.64.1:1000/\", \"http://192.168.1.189:1000/\", \"http://127.0.0.1:1000/\"])\r\n",
       "        .then((root) => {\r\n",
       "        // use probing to find host url and api resources\r\n",
       "        // load interactive helpers and language services\r\n",
       "        let dotnetInteractiveRequire = require.config({\r\n",
       "        context: '25896.Microsoft.DotNet.Interactive.Http.HttpPort',\r\n",
       "                paths:\r\n",
       "            {\r\n",
       "                'dotnet-interactive': `${root}resources`\r\n",
       "                }\r\n",
       "        }) || require;\r\n",
       "\r\n",
       "            window.dotnetInteractiveRequire = dotnetInteractiveRequire;\r\n",
       "\r\n",
       "            window.configureRequireFromExtension = function(extensionName, extensionCacheBuster) {\r\n",
       "                let paths = {};\r\n",
       "                paths[extensionName] = `${root}extensions/${extensionName}/resources/`;\r\n",
       "                \r\n",
       "                let internalRequire = require.config({\r\n",
       "                    context: extensionCacheBuster,\r\n",
       "                    paths: paths,\r\n",
       "                    urlArgs: `cacheBuster=${extensionCacheBuster}`\r\n",
       "                    }) || require;\r\n",
       "\r\n",
       "                return internalRequire\r\n",
       "            };\r\n",
       "        \r\n",
       "            dotnetInteractiveRequire([\r\n",
       "                    'dotnet-interactive/dotnet-interactive'\r\n",
       "                ],\r\n",
       "                function (dotnet) {\r\n",
       "                    dotnet.init(window);\r\n",
       "                },\r\n",
       "                function (error) {\r\n",
       "                    console.log(error);\r\n",
       "                }\r\n",
       "            );\r\n",
       "        })\r\n",
       "        .catch(error => {console.log(error);});\r\n",
       "    }\r\n",
       "\r\n",
       "// ensure `require` is available globally\r\n",
       "if ((typeof(require) !==  typeof(Function)) || (typeof(require.config) !== typeof(Function))) {\r\n",
       "    let require_script = document.createElement('script');\r\n",
       "    require_script.setAttribute('src', 'https://cdnjs.cloudflare.com/ajax/libs/require.js/2.3.6/require.min.js');\r\n",
       "    require_script.setAttribute('type', 'text/javascript');\r\n",
       "    \r\n",
       "    \r\n",
       "    require_script.onload = function() {\r\n",
       "        loadDotnetInteractiveApi();\r\n",
       "    };\r\n",
       "\r\n",
       "    document.getElementsByTagName('head')[0].appendChild(require_script);\r\n",
       "}\r\n",
       "else {\r\n",
       "    loadDotnetInteractiveApi();\r\n",
       "}\r\n",
       "\r\n",
       "    </script>\r\n",
       "</div>"
      ]
     },
     "metadata": {},
     "output_type": "display_data"
    },
    {
     "data": {
      "text/html": [
       "<div><div></div><div></div><div><strong>Installed Packages</strong><ul><li><span>Modzy.NET, 0.1.2-alpha</span></li></ul></div></div>"
      ]
     },
     "metadata": {},
     "output_type": "display_data"
    }
   ],
   "source": [
    "#r \"nuget: Modzy.NET, 0.1.2-alpha\""
   ]
  },
  {
   "cell_type": "code",
   "execution_count": 2,
   "id": "5aa310c5",
   "metadata": {},
   "outputs": [],
   "source": [
    "using Modzy;"
   ]
  },
  {
   "cell_type": "code",
   "execution_count": 3,
   "id": "8d211693",
   "metadata": {},
   "outputs": [
    {
     "name": "stdout",
     "output_type": "stream",
     "text": [
      "Initialized HTTP client for Modzy API base url https://app.modzy.com/api/.\r\n"
     ]
    }
   ],
   "source": [
    "var client = new ApiClient(\"qBL0HO1JmSXy43E3Hso6.GoXIos62w9ld2Ir8YMrn\");\n",
    "var models = await client.GetModelsListing();"
   ]
  },
  {
   "cell_type": "code",
   "execution_count": 4,
   "id": "ea17f23c",
   "metadata": {},
   "outputs": [
    {
     "data": {
      "text/html": [
       "<table><thead><tr><th><i>index</i></th><th>ModelId</th><th>LatestVersion</th><th>Versions</th></tr></thead><tbody><tr><td>0</td><td>z8qms2pgvx</td><td>4.1.0</td><td><div class=\"dni-plaintext\">[ 4.1.0, 1.0.0 ]</div></td></tr><tr><td>1</td><td>mcmedzgiu3</td><td>0.0.1</td><td><div class=\"dni-plaintext\">[ 0.0.1 ]</div></td></tr><tr><td>2</td><td>f7e252e26a</td><td>0.0.1</td><td><div class=\"dni-plaintext\">[ 0.0.1 ]</div></td></tr><tr><td>3</td><td>usl7zai4ve</td><td>0.0.1</td><td><div class=\"dni-plaintext\">[ 0.0.1 ]</div></td></tr><tr><td>4</td><td>132fq7a6a9</td><td>1.0.2</td><td><div class=\"dni-plaintext\">[ 1.0.2, 0.0.1, 0.0.2 ]</div></td></tr><tr><td>5</td><td>pn7pa4retx</td><td>0.0.1</td><td><div class=\"dni-plaintext\">[ 0.0.1 ]</div></td></tr><tr><td>6</td><td>d264386947</td><td>0.0.1</td><td><div class=\"dni-plaintext\">[ 0.0.1 ]</div></td></tr><tr><td>7</td><td>2a3d66c038</td><td>0.0.3</td><td><div class=\"dni-plaintext\">[ 0.0.2, 0.0.1, 0.0.3 ]</div></td></tr><tr><td>8</td><td>cbf9e8d6da</td><td>0.0.1</td><td><div class=\"dni-plaintext\">[ 0.0.1 ]</div></td></tr><tr><td>9</td><td>clqv1dz0cq</td><td>0.0.1</td><td><div class=\"dni-plaintext\">[ 0.0.1 ]</div></td></tr><tr><td>10</td><td>s25ge4ufw4</td><td>0.0.1</td><td><div class=\"dni-plaintext\">[ 0.0.1 ]</div></td></tr><tr><td>11</td><td>gwfoviogcm</td><td>0.0.2</td><td><div class=\"dni-plaintext\">[ 0.0.2, 0.0.1 ]</div></td></tr><tr><td>12</td><td>zi2wvziln1</td><td>0.0.2</td><td><div class=\"dni-plaintext\">[ 0.0.2, 0.0.1 ]</div></td></tr><tr><td>13</td><td>e8cfeeecf1</td><td>0.0.1</td><td><div class=\"dni-plaintext\">[ 0.0.1 ]</div></td></tr><tr><td>14</td><td>9n90r9b0dp</td><td>0.0.1</td><td><div class=\"dni-plaintext\">[ 0.0.1 ]</div></td></tr><tr><td>15</td><td>5b98cvxsd2</td><td>0.0.1</td><td><div class=\"dni-plaintext\">[ 0.0.1 ]</div></td></tr><tr><td>16</td><td>nrudxuubt3</td><td>0.1.0</td><td><div class=\"dni-plaintext\">[ 0.1.0 ]</div></td></tr><tr><td>17</td><td>0wiku2mtlf</td><td>0.0.1</td><td><div class=\"dni-plaintext\">[ 0.0.1 ]</div></td></tr><tr><td>18</td><td>6d1c49595f</td><td>1.0.1</td><td><div class=\"dni-plaintext\">[ 0.0.11, 0.0.12, 1.0.1 ]</div></td></tr><tr><td>19</td><td>cyoxn54q5g</td><td>0.0.2</td><td><div class=\"dni-plaintext\">[ 0.0.1, 0.0.2 ]</div></td></tr><tr><td colspan=\"4\"><i>(28 more)</i></td></tr></tbody></table>"
      ]
     },
     "execution_count": 4,
     "metadata": {},
     "output_type": "execute_result"
    }
   ],
   "source": [
    "models"
   ]
  },
  {
   "cell_type": "code",
   "execution_count": 5,
   "id": "36662943",
   "metadata": {},
   "outputs": [],
   "source": [
    "var model = await client.GetModel(\"ed542963de\");"
   ]
  },
  {
   "cell_type": "code",
   "execution_count": 6,
   "id": "02ec7700",
   "metadata": {},
   "outputs": [],
   "source": [
    "var job = await client.RunModelWithText(model, \"1.0.1\", \"input.txt\", \"The Knicks suck and I hate them.\");"
   ]
  },
  {
   "cell_type": "code",
   "execution_count": 7,
   "id": "42566f33",
   "metadata": {},
   "outputs": [
    {
     "name": "stdout",
     "output_type": "stream",
     "text": [
      "Job da1f50fc-bc96-4636-9bf9-f5730a30cf5b completed.\r\n"
     ]
    },
    {
     "data": {
      "text/html": [
       "<table><thead><tr><th>JobIdentifier</th><th>AccountIdentifier</th><th>Team</th><th>Total</th><th>Completed</th><th>Failed</th><th>Finished</th><th>SubmittedByKey</th><th>Explained</th><th>SubmittedAt</th><th>InitialQueueTime</th><th>TotalQueueTime</th><th>AverageModelLatency</th><th>TotalModelLatency</th><th>ElapsedTime</th><th>StartingResultSummarizing</th><th>ResultSummarizing</th><th>InputSize</th><th>ResultsResults</th><th>Failures</th></tr></thead><tbody><tr><td><div class=\"dni-plaintext\">da1f50fc-bc96-4636-9bf9-f5730a30cf5b</div></td><td><div class=\"dni-plaintext\">modzy-account</div></td><td><div class=\"dni-plaintext\">{ Modzy.Team: Identifier: a0d09f33-4c0c-4397-8b1c-738f55d58bb1 }</div></td><td><div class=\"dni-plaintext\">1</div></td><td><div class=\"dni-plaintext\">1</div></td><td><div class=\"dni-plaintext\">0</div></td><td><div class=\"dni-plaintext\">True</div></td><td><div class=\"dni-plaintext\">qBL0HO1JmSXy43E3Hso6</div></td><td><div class=\"dni-plaintext\">False</div></td><td><div class=\"dni-plaintext\">2021-12-06 21:31:40Z</div></td><td><div class=\"dni-plaintext\">391</div></td><td><div class=\"dni-plaintext\">391</div></td><td><div class=\"dni-plaintext\">143</div></td><td><div class=\"dni-plaintext\">143</div></td><td><div class=\"dni-plaintext\">842</div></td><td><div class=\"dni-plaintext\">2021-12-06 21:31:40Z</div></td><td><div class=\"dni-plaintext\">61</div></td><td><div class=\"dni-plaintext\">176</div></td><td><div class=\"dni-plaintext\">[ { [0001, Modzy.ResultsClass]: Key: 0001, Value: { Modzy.ResultsClass: Status: SUCCESSFUL, Engine: model-batch-ed542963de-1-0-1-786bd594c8-b54xh, InputFetching: 139, OutputUploading: &lt;null&gt;, ModelLatency: 143, QueueTime: 391, StartTime: 2021-12-06T21:31:40.545+0000, UpdateTime: 2021-12-06T21:31:40.793+0000, EndTime: 2021-12-06T21:31:40.793+0000, ResultsWav: &lt;null&gt;, Voting: { Modzy.Voting: Up: 0, Down: 0 }, ResultsJson: { Modzy.ResultsJson: Data: { Modzy.ResultsJsonData: Result: { Modzy.Result: ClassPredictions: [ Modzy.ClassPrediction, Modzy.ClassPrediction, Modzy.ClassPrediction ] }, Explanation: &lt;null&gt;, Drift: &lt;null&gt; }, ListData: &lt;null&gt; } } } ]</div></td><td><div class=\"dni-plaintext\">&lt;null&gt;</div></td></tr></tbody></table>"
      ]
     },
     "execution_count": 7,
     "metadata": {},
     "output_type": "execute_result"
    }
   ],
   "source": [
    "var r = await client.WaitUntilComplete(job);\n",
    "r"
   ]
  },
  {
   "cell_type": "code",
   "execution_count": null,
   "id": "759e85c5",
   "metadata": {},
   "outputs": [],
   "source": []
  }
 ],
 "metadata": {
  "kernelspec": {
   "display_name": ".NET (C#)",
   "language": "C#",
   "name": ".net-csharp"
  },
  "language_info": {
   "file_extension": ".cs",
   "mimetype": "text/x-csharp",
   "name": "C#",
   "pygments_lexer": "csharp",
   "version": "9.0"
  }
 },
 "nbformat": 4,
 "nbformat_minor": 5
}
